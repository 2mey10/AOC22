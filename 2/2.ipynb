{
 "cells": [
  {
   "cell_type": "code",
   "execution_count": 1,
   "outputs": [],
   "source": [
    "data = []\n",
    "with open(\"input.txt\") as f:\n",
    "    data = f.readlines()"
   ],
   "metadata": {
    "collapsed": false,
    "pycharm": {
     "name": "#%%\n"
    }
   }
  },
  {
   "cell_type": "code",
   "execution_count": 10,
   "outputs": [
    {
     "data": {
      "text/plain": "['A Z\\n', 'C X\\n', 'A Z\\n', 'A Z\\n', 'C Y\\n']"
     },
     "execution_count": 10,
     "metadata": {},
     "output_type": "execute_result"
    }
   ],
   "source": [
    "data[:5]"
   ],
   "metadata": {
    "collapsed": false,
    "pycharm": {
     "name": "#%%\n"
    }
   }
  },
  {
   "cell_type": "code",
   "execution_count": 3,
   "outputs": [],
   "source": [
    "data_trimmed = [el.split(\"\\n\")[0] for el in data]"
   ],
   "metadata": {
    "collapsed": false,
    "pycharm": {
     "name": "#%%\n"
    }
   }
  },
  {
   "cell_type": "code",
   "execution_count": 8,
   "outputs": [
    {
     "data": {
      "text/plain": "['A Z', 'C X', 'A Z', 'A Z', 'C Y']"
     },
     "execution_count": 8,
     "metadata": {},
     "output_type": "execute_result"
    }
   ],
   "source": [
    "data_trimmed[:5]"
   ],
   "metadata": {
    "collapsed": false,
    "pycharm": {
     "name": "#%%\n"
    }
   }
  },
  {
   "cell_type": "code",
   "execution_count": 5,
   "outputs": [],
   "source": [
    "data_split = [el.split(\" \") for el in data_trimmed]"
   ],
   "metadata": {
    "collapsed": false,
    "pycharm": {
     "name": "#%%\n"
    }
   }
  },
  {
   "cell_type": "code",
   "execution_count": 9,
   "outputs": [
    {
     "data": {
      "text/plain": "[['A', 'Z'], ['C', 'X'], ['A', 'Z'], ['A', 'Z'], ['C', 'Y']]"
     },
     "execution_count": 9,
     "metadata": {},
     "output_type": "execute_result"
    }
   ],
   "source": [
    "data_split[:5]"
   ],
   "metadata": {
    "collapsed": false,
    "pycharm": {
     "name": "#%%\n"
    }
   }
  },
  {
   "cell_type": "markdown",
   "source": [
    "### Rules:\n",
    "- score for shape (Rock -> 1, Paper -> 2, Scissors -> 3)\n",
    "- score for outcome ( win -> 6, tie -> 3, loss -> 0)"
   ],
   "metadata": {
    "collapsed": false,
    "pycharm": {
     "name": "#%% md\n"
    }
   }
  },
  {
   "cell_type": "code",
   "execution_count": 36,
   "outputs": [],
   "source": [
    "mapping_input = {\n",
    "    \"A\":\"Rock\",\n",
    "    \"B\":\"Paper\",\n",
    "    \"C\":\"Scissors\"\n",
    "}\n",
    "mapping_output = {\n",
    "    \"X\":\"Rock\",\n",
    "    \"Y\":\"Paper\",\n",
    "    \"Z\":\"Scissors\"\n",
    "}\n",
    "outcome_mapping = {\n",
    "    \"win\": 6,\n",
    "    \"tie\": 3,\n",
    "    \"lose\": 0\n",
    "}\n",
    "shape_mapping = {\n",
    "    \"Rock\": 1,\n",
    "    \"Paper\": 2,\n",
    "    \"Scissors\": 3\n",
    "}"
   ],
   "metadata": {
    "collapsed": false,
    "pycharm": {
     "name": "#%%\n"
    }
   }
  },
  {
   "cell_type": "code",
   "execution_count": 37,
   "outputs": [],
   "source": [
    "# transition the sheet with out mapping\n",
    "new_data = [[mapping_input[el[0]],mapping_output[el[1]]]for el in data_split]"
   ],
   "metadata": {
    "collapsed": false,
    "pycharm": {
     "name": "#%%\n"
    }
   }
  },
  {
   "cell_type": "code",
   "execution_count": 38,
   "outputs": [
    {
     "data": {
      "text/plain": "[['Rock', 'Scissors'],\n ['Scissors', 'Rock'],\n ['Rock', 'Scissors'],\n ['Rock', 'Scissors'],\n ['Scissors', 'Paper']]"
     },
     "execution_count": 38,
     "metadata": {},
     "output_type": "execute_result"
    }
   ],
   "source": [
    "new_data[:5]"
   ],
   "metadata": {
    "collapsed": false,
    "pycharm": {
     "name": "#%%\n"
    }
   }
  },
  {
   "cell_type": "code",
   "execution_count": 39,
   "outputs": [],
   "source": [
    "def game(enemy,me):\n",
    "    if enemy == me:\n",
    "        return \"tie\"\n",
    "\n",
    "    if enemy == \"Rock\" and me == \"Scissors\":\n",
    "        return \"lose\"\n",
    "    if enemy == \"Rock\" and me == \"Paper\":\n",
    "        return \"win\"\n",
    "\n",
    "    if enemy == \"Scissors\" and me == \"Paper\":\n",
    "        return \"lose\"\n",
    "    if enemy == \"Scissors\" and me == \"Rock\":\n",
    "        return \"win\"\n",
    "\n",
    "    if enemy == \"Paper\" and me == \"Rock\":\n",
    "        return \"lose\"\n",
    "    if enemy == \"Paper\" and me == \"Scissors\":\n",
    "        return \"win\""
   ],
   "metadata": {
    "collapsed": false,
    "pycharm": {
     "name": "#%%\n"
    }
   }
  },
  {
   "cell_type": "code",
   "execution_count": 40,
   "outputs": [],
   "source": [
    "results = [[el[0],el[1],game(el[0],el[1]),shape_mapping[el[1]],outcome_mapping[game(el[0],el[1])]] for el in new_data]"
   ],
   "metadata": {
    "collapsed": false,
    "pycharm": {
     "name": "#%%\n"
    }
   }
  },
  {
   "cell_type": "code",
   "execution_count": 44,
   "outputs": [],
   "source": [
    "results5:5"
   ],
   "metadata": {
    "collapsed": false,
    "pycharm": {
     "name": "#%%\n"
    }
   }
  },
  {
   "cell_type": "code",
   "execution_count": 42,
   "outputs": [],
   "source": [
    "solution = sum([el[3]+el[4] for el in results])"
   ],
   "metadata": {
    "collapsed": false,
    "pycharm": {
     "name": "#%%\n"
    }
   }
  },
  {
   "cell_type": "code",
   "execution_count": 45,
   "outputs": [
    {
     "name": "stdout",
     "output_type": "stream",
     "text": [
      "The solution is: 11767\n"
     ]
    }
   ],
   "source": [
    "print(f\"The solution is: {solution}\")"
   ],
   "metadata": {
    "collapsed": false,
    "pycharm": {
     "name": "#%%\n"
    }
   }
  },
  {
   "cell_type": "code",
   "execution_count": null,
   "outputs": [],
   "source": [],
   "metadata": {
    "collapsed": false,
    "pycharm": {
     "name": "#%%\n"
    }
   }
  }
 ],
 "metadata": {
  "kernelspec": {
   "display_name": "Python 3",
   "language": "python",
   "name": "python3"
  },
  "language_info": {
   "codemirror_mode": {
    "name": "ipython",
    "version": 2
   },
   "file_extension": ".py",
   "mimetype": "text/x-python",
   "name": "python",
   "nbconvert_exporter": "python",
   "pygments_lexer": "ipython2",
   "version": "2.7.6"
  }
 },
 "nbformat": 4,
 "nbformat_minor": 0
}